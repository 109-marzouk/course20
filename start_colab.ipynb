{
 "cells": [
  {
   "cell_type": "code",
   "execution_count": 2,
   "metadata": {},
   "outputs": [],
   "source": [
    "#hide\n",
    "from fastai2.vision.all import *"
   ]
  },
  {
   "cell_type": "markdown",
   "metadata": {},
   "source": [
    "# Using Colab\n",
    "> Free GPU notebooks from Google\n",
    "\n",
    "- hide_colab_badge:true"
   ]
  },
  {
   "cell_type": "code",
   "execution_count": 3,
   "metadata": {},
   "outputs": [],
   "source": [
    "#hide\n",
    "from nbdev.showdoc import *\n",
    "path = Path('../fastbook')\n",
    "fns = path.ls(file_exts='.ipynb')\n",
    "for fn in fns.sorted():\n",
    "    url = f'https://colab.research.google.com/github/fastai/fastbook/blob/master/{fn.name}'\n",
    "    print(f'- [{fn.stem}]({url})')"
   ]
  },
  {
   "cell_type": "markdown",
   "metadata": {},
   "source": [
    "This is a quick guide to starting Practical Deep Learning for Coders using [Google Colab](https://colab.research.google.com). Colab is a service that provides GPU-powered Notebooks for free. It's based on, but slightly different to, regular Jupyter Notebooks, so be sure to read the Colab docs to learn how it works.\n",
    "\n",
    "*NB: Colab is a free service that may not always be available, and requires extra steps to ensure your work is saved. Be sure to read the docs on the Colab web-site to ensure you understand the limitations of the system.*"
   ]
  },
  {
   "cell_type": "markdown",
   "metadata": {},
   "source": [
    "## Opening a chapter of the book"
   ]
  },
  {
   "cell_type": "markdown",
   "metadata": {},
   "source": [
    "You can open any chapter of the book in Colab by clicking on one of these links: [app_jupyter](https://colab.research.google.com/github/fastai/fastbook/blob/master/app_jupyter.ipynb); [01_intro](https://colab.research.google.com/github/fastai/fastbook/blob/master/01_intro.ipynb); [02_production](https://colab.research.google.com/github/fastai/fastbook/blob/master/02_production.ipynb); [03_ethics](https://colab.research.google.com/github/fastai/fastbook/blob/master/03_ethics.ipynb); [04_mnist_basics](https://colab.research.google.com/github/fastai/fastbook/blob/master/04_mnist_basics.ipynb); [05_pet_breeds](https://colab.research.google.com/github/fastai/fastbook/blob/master/05_pet_breeds.ipynb); [06_multicat](https://colab.research.google.com/github/fastai/fastbook/blob/master/06_multicat.ipynb); [07_sizing_and_tta](https://colab.research.google.com/github/fastai/fastbook/blob/master/07_sizing_and_tta.ipynb); [08_collab](https://colab.research.google.com/github/fastai/fastbook/blob/master/08_collab.ipynb); [09_tabular](https://colab.research.google.com/github/fastai/fastbook/blob/master/09_tabular.ipynb); [10_nlp](https://colab.research.google.com/github/fastai/fastbook/blob/master/10_nlp.ipynb); [11_midlevel_data](https://colab.research.google.com/github/fastai/fastbook/blob/master/11_midlevel_data.ipynb); [12_nlp_dive](https://colab.research.google.com/github/fastai/fastbook/blob/master/12_nlp_dive.ipynb); [13_convolutions](https://colab.research.google.com/github/fastai/fastbook/blob/master/13_convolutions.ipynb); [14_resnet](https://colab.research.google.com/github/fastai/fastbook/blob/master/14_resnet.ipynb); [15_arch_details](https://colab.research.google.com/github/fastai/fastbook/blob/master/15_arch_details.ipynb); [16_accel_sgd](https://colab.research.google.com/github/fastai/fastbook/blob/master/16_accel_sgd.ipynb); [17_foundations](https://colab.research.google.com/github/fastai/fastbook/blob/master/17_foundations.ipynb); [18_CAM](https://colab.research.google.com/github/fastai/fastbook/blob/master/18_CAM.ipynb); [19_learner](https://colab.research.google.com/github/fastai/fastbook/blob/master/19_learner.ipynb); [20_conclusion](https://colab.research.google.com/github/fastai/fastbook/blob/master/20_conclusion.ipynb)\n",
    "\n",
    "Alternatively, head on to the [Colab Welcome Page](https://colab.research.google.com/notebooks/welcome.ipynb) and click on 'Github'. In the 'Enter a GitHub URL or search by organization or user' line enter 'fastai/fastbook'. You will see all the courses notebooks listed there. Click on the one you are interested in using."
   ]
  },
  {
   "cell_type": "markdown",
   "metadata": {},
   "source": [
    "## Using a GPU"
   ]
  },
  {
   "cell_type": "markdown",
   "metadata": {},
   "source": [
    "Before running anything, you need to tell Colab that you are interested in using a GPU. You can do this by clicking on the ‘Runtime’ tab and selecting ‘Change runtime type’. A pop-up window will open up with a drop-down menu.\n",
    "\n",
    "<img alt=\"stop\" src=\"images/colab/03.png\" width=\"280\" class=\"screenshot\">"
   ]
  },
  {
   "cell_type": "markdown",
   "metadata": {},
   "source": [
    "Select ‘GPU’ from the menu and click ‘Save’.\n",
    "\n",
    "<img alt=\"stop\" src=\"images/colab/04.png\" width=\"380\" class=\"screenshot\">"
   ]
  },
  {
   "cell_type": "markdown",
   "metadata": {},
   "source": [
    "## Notebook setup"
   ]
  },
  {
   "cell_type": "markdown",
   "metadata": {},
   "source": [
    "The first cell contains the code necessary to set up `fastai` and other libraries you'll need. It looks like this:\n",
    "\n",
    "```python\n",
    "!pip install -Uqq fastbook\n",
    "import fastbook\n",
    "fastbook.setup_book()\n",
    "```\n",
    "\n",
    "Click the \"run\" triangle on the left of that cell, or press Ctrl-Enter, to execute the cell.\n",
    "\n",
    "When you run the first cell, you may face a pop-up saying '*Warning: This notebook was not authored by Google*'; you should click on 'Run Anyway' to get rid of the warning.\n",
    "\n",
    "<img alt=\"stop\" src=\"images/colab/02.png\" width=\"480\" class=\"screenshot\">"
   ]
  },
  {
   "cell_type": "markdown",
   "metadata": {},
   "source": [
    "## Using Google Drive"
   ]
  },
  {
   "cell_type": "markdown",
   "metadata": {},
   "source": [
    "Colab lets you saves your work to Google Drive, so when you run the cell, it will ask you to login to Google Drive. You'll need a Google Account to do this.\n",
    "\n",
    "After you've logged in, you can execute the next cell which imports everything you need from the library you just installed. It looks like this:\n",
    "\n",
    "```python\n",
    "from fastbook import *\n",
    "```\n",
    "\n",
    "Your Google Drive will be available in a variable called `gdrive`, which will point to `Path('/content/gdrive/My Drive')`. When saving files and models during the lessons, you should use directories in this path.\n",
    "\n",
    "After opening a notebook from Github, you will need to save your work to Google Drive. You can do this by clicking on 'File' and then 'Save'. You should see a pop-up with the following message:\n",
    "\n",
    "<img alt=\"create\" src=\"images/colab/09.png\" width=\"580\" class=\"screenshot\">\n",
    "\n",
    "Click on 'SAVE A COPY IN DRIVE'. This will open up a new tab with the same file, only this time located in your Drive. If you want to continue working after saving,  use the file in the new tab. Your notebook will be saved in a folder called `Colab Notebooks` in your Google Drive by default."
   ]
  },
  {
   "cell_type": "code",
   "execution_count": null,
   "metadata": {},
   "outputs": [],
   "source": []
  }
 ],
 "metadata": {
  "jupytext": {
   "split_at_heading": true
  },
  "kernelspec": {
   "display_name": "Python 3",
   "language": "python",
   "name": "python3"
  },
  "language_info": {
   "codemirror_mode": {
    "name": "ipython",
    "version": 3
   },
   "file_extension": ".py",
   "mimetype": "text/x-python",
   "name": "python",
   "nbconvert_exporter": "python",
   "pygments_lexer": "ipython3",
   "version": "3.7.7"
  },
  "toc": {
   "base_numbering": 1,
   "nav_menu": {
    "height": "171px",
    "width": "160px"
   },
   "number_sections": false,
   "sideBar": true,
   "skip_h1_title": true,
   "title_cell": "Table of Contents",
   "title_sidebar": "Contents",
   "toc_cell": false,
   "toc_position": {},
   "toc_section_display": true,
   "toc_window_display": false
  }
 },
 "nbformat": 4,
 "nbformat_minor": 2
}
